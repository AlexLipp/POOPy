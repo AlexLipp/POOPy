{
 "cells": [
  {
   "cell_type": "markdown",
   "metadata": {},
   "source": [
    "This notebook provides an example of how to use the `poopy` package to access live and historical event duration monitoring data provided by English water companies.\n",
    "\n",
    "First, we import the libraries we need."
   ]
  },
  {
   "cell_type": "code",
   "execution_count": null,
   "metadata": {},
   "outputs": [],
   "source": [
    "from poopy.companies import ThamesWater\n",
    "# To help demonstrate the package\n",
    "import time\n",
    "import os\n",
    "import matplotlib.pyplot as plt"
   ]
  },
  {
   "cell_type": "markdown",
   "metadata": {},
   "source": [
    "The intended way to access active EDM data is by instantiating a `WaterCompany` object, which corresponds to the EDM sensor network maintained by a specific water comapny. When initialising the object, it is populated with all of the active (i.e., _transmitting_) EDM monitors maintained by Thames Water. However, we do not create a `WaterCompany` object directly. Instead, each water company defines a sub-class of a `WaterCompany` object. This is because each company transmits their data via different APIs and so the data is accessed in slightly different ways. However, this is all done 'behind the scenes', so they are all interacted with in the exact same way. The only difference is the name of the class. Lets have a look at the data in Thames Water's active EDM monitors...\n",
    "\n",
    "To access the Thames Water API you need to specify access codes\n",
    "for the API which you can obtain [here](https://data.thameswater.co.uk/s/). \n",
    "For security reasons, we have not included our access codes in this \n",
    "script. Instead, we assume that they have been set as *environment\n",
    "variables*. If you are running this script on your own machine, you\n",
    "will need to set these environment variables yourself. "
   ]
  },
  {
   "cell_type": "code",
   "execution_count": null,
   "metadata": {},
   "outputs": [],
   "source": [
    "tw_clientID = os.getenv(\"TW_CLIENT_ID\")\n",
    "tw_clientSecret = os.getenv(\"TW_CLIENT_SECRET\")\n",
    "\n",
    "if tw_clientID is None or tw_clientSecret is None:\n",
    "    raise ValueError(\n",
    "        \"Thames Water API keys are missing from the environment!\\n Please set them and try again.\"\n",
    "    )\n",
    "\n",
    "tw = ThamesWater(tw_clientID, tw_clientSecret)"
   ]
  },
  {
   "cell_type": "markdown",
   "metadata": {},
   "source": [
    "We can see the names of these monitors by using the `active_monitor_names` attribute"
   ]
  },
  {
   "cell_type": "code",
   "execution_count": null,
   "metadata": {},
   "outputs": [],
   "source": [
    "print(\"-\" * 50)\n",
    "print(\"Number of active monitors: \", len(tw.active_monitor_names))\n",
    "print(\"Active monitor names: \")\n",
    "for name in tw.active_monitor_names:\n",
    "    print(\"\\t\", name)\n",
    "print(\"-\" * 50)"
   ]
  },
  {
   "cell_type": "markdown",
   "metadata": {},
   "source": [
    "Lets see the current status of a random monitor in the network. Lets extract the [42](https://en.wikipedia.org/wiki/42_(number)#The_Hitchhiker's_Guide_to_the_Galaxy)nd monitor in the network"
   ]
  },
  {
   "cell_type": "code",
   "execution_count": null,
   "metadata": {},
   "outputs": [],
   "source": [
    "print(\"Selecting an arbitrary monitor...\")\n",
    "name = tw.active_monitor_names[42]\n",
    "print(\"Monitor name: \", name)"
   ]
  },
  {
   "cell_type": "markdown",
   "metadata": {},
   "source": [
    "The monitors are stored in a `Dictionary` of `Monitor` objects, which can be accessed using the `monitors` attribute. We now extract the `Monitor` object corresponding to the name we have just extracted. We can then use the `print_status` method to print the current status of the monitor."
   ]
  },
  {
   "cell_type": "code",
   "execution_count": null,
   "metadata": {},
   "outputs": [],
   "source": [
    "monitor = tw.active_monitors[name]\n",
    "monitor.print_status()"
   ]
  },
  {
   "cell_type": "markdown",
   "metadata": {},
   "source": [
    "Each `Monitor` stores the `WaterCompany` object which contains the monitor. For example, the `Monitor` we have just extracted is maintained by the following `WaterCompany` object:"
   ]
  },
  {
   "cell_type": "code",
   "execution_count": null,
   "metadata": {},
   "outputs": [],
   "source": [
    "print(\"Monitor maintained by: \", monitor.water_company.name)"
   ]
  },
  {
   "cell_type": "markdown",
   "metadata": {},
   "source": [
    "We can also see when the information was last updated by querying the WaterCompany object's timestamp attribute"
   ]
  },
  {
   "cell_type": "code",
   "execution_count": null,
   "metadata": {},
   "outputs": [],
   "source": [
    "print(\"Monitor data last updated: \", monitor.water_company.timestamp)"
   ]
  },
  {
   "cell_type": "markdown",
   "metadata": {},
   "source": [
    "Lets say we think maybe there has been a change in the status of the monitor since the last update. We can use the `WaterCompany`'s `update()` method to update the status of the `Monitor`. Note that this updates all `Monitor`s maintained by the `WaterCompany` object, not just the one we are interested in."
   ]
  },
  {
   "cell_type": "code",
   "execution_count": null,
   "metadata": {},
   "outputs": [],
   "source": [
    "print(\"... pausing for 5 seconds ...\")\n",
    "time.sleep(5)\n",
    "print(\"Updating monitor data...\")\n",
    "monitor.water_company.update()\n",
    "print(\"Monitor last updated: \", monitor.water_company.timestamp)"
   ]
  },
  {
   "cell_type": "markdown",
   "metadata": {},
   "source": [
    "Note that the timestamp has been updated.\n",
    "\n",
    "The `current_event` attribute of the `Monitor` object stores an `Event` object that contains specific information. `Event` is a class that contains three sub-classes corresponding to the three different types of status that can be recorded: `Discharge`, `NoDischarge` and `Offline`. The `current_event` attribute will contain an object of one of these three classes, depending on the current status of the monitor.\n",
    "\n",
    "Lets see what the current status of the event recorded at the monitor is:"
   ]
  },
  {
   "cell_type": "code",
   "execution_count": null,
   "metadata": {},
   "outputs": [],
   "source": [
    "print(\"Extracting current event at monitor...\")\n",
    "event = monitor.current_event\n",
    "print(\"Event ongoing? \", event.ongoing)"
   ]
  },
  {
   "cell_type": "markdown",
   "metadata": {},
   "source": [
    "Because the event is ongoing it doesn't have an end time, but it does have a start time.\n",
    "As a result, the `duration` attribute of the `Event` object updates dynamically to show the duration\n",
    "of the event so far (in minutes). We can see this here."
   ]
  },
  {
   "cell_type": "code",
   "execution_count": null,
   "metadata": {},
   "outputs": [],
   "source": [
    "print(\"Event start:\", event.start_time)\n",
    "print(\"Event duration:\", event.duration, \"minutes\")\n",
    "print(\"... pausing for 5 seconds ...\")\n",
    "time.sleep(5)\n",
    "print(\"Event duration (5 seconds later):\", event.duration, \"minutes\")"
   ]
  },
  {
   "cell_type": "markdown",
   "metadata": {},
   "source": [
    "Lets query all the CSOs that are currently discharging using the `WaterCompany`'s `discharging_monitors` attribute. This returns a list of `Monitor` objects that are currently discharging. We loop through and print their summaries. Note how the colour of the summary changes depending on the status of the monitor."
   ]
  },
  {
   "cell_type": "code",
   "execution_count": null,
   "metadata": {},
   "outputs": [],
   "source": [
    "print(\"Extracting all discharging CSOs...\")\n",
    "discharging = tw.discharging_monitors\n",
    "print(\"Printing summary of all discharging CSOs...\")\n",
    "for monitor in discharging:\n",
    "    monitor.print_status()"
   ]
  },
  {
   "cell_type": "markdown",
   "metadata": {},
   "source": [
    "Now we want to look at the downstream impact of the current sewage\n",
    "discharges. First, we calculate the points downstream of the CSO\n",
    "using the `calculate_downstream_points` method. This returns the\n",
    "downstream points in British National Grid coordinates as well as\n",
    "how many CSOs are upstream of each point."
   ]
  },
  {
   "cell_type": "code",
   "execution_count": null,
   "metadata": {},
   "outputs": [],
   "source": [
    "x, y, n = tw.calculate_downstream_points()"
   ]
  },
  {
   "cell_type": "markdown",
   "metadata": {},
   "source": [
    "These can then be plotted using matplotlib. We can see that the number of CSOs upstream of each point increases as we move downstream. "
   ]
  },
  {
   "cell_type": "code",
   "execution_count": null,
   "metadata": {},
   "outputs": [],
   "source": [
    "plt.scatter(x, y, c=n)\n",
    "plt.xlabel(\"Easting (m)\")\n",
    "plt.ylabel(\"Northing (m)\")\n",
    "cb = plt.colorbar()\n",
    "cb.set_label(\"Number of CSOs upstream\")"
   ]
  },
  {
   "cell_type": "markdown",
   "metadata": {},
   "source": [
    "To use this information in other geospatial software, we can save\n",
    "the downstream points as a geojson file using the `save_downstream_geojson`.\n",
    "This is geoJSON line file that contains the downstream river sections.\n",
    "This can be loaded into QGIS or other GIS software. By default, the file\n",
    "is saved as a .geojson with a name concatenating the water company name\n",
    "and the most recent update time. Note this function can be slow for large\n",
    "networks."
   ]
  },
  {
   "cell_type": "code",
   "execution_count": null,
   "metadata": {},
   "outputs": [],
   "source": [
    "tw.save_downstream_geojson()"
   ]
  }
 ],
 "metadata": {
  "kernelspec": {
   "display_name": "working",
   "language": "python",
   "name": "python3"
  },
  "language_info": {
   "codemirror_mode": {
    "name": "ipython",
    "version": 3
   },
   "file_extension": ".py",
   "mimetype": "text/x-python",
   "name": "python",
   "nbconvert_exporter": "python",
   "pygments_lexer": "ipython3",
   "version": "3.10.6"
  }
 },
 "nbformat": 4,
 "nbformat_minor": 2
}
