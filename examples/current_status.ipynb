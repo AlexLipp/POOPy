{
 "cells": [
  {
   "cell_type": "markdown",
   "metadata": {},
   "source": [
    "This notebook provides an example of how to use the `poopy` package to access live and historical event duration monitoring data provided by English water companies.\n",
    "\n",
    "First, we import the libraries we need."
   ]
  },
  {
   "cell_type": "code",
   "execution_count": null,
   "metadata": {},
   "outputs": [],
   "source": [
    "from poopy.companies import ThamesWater\n",
    "# This is just to demonstrate the time varying nature of the data!\n",
    "import time"
   ]
  },
  {
   "cell_type": "markdown",
   "metadata": {},
   "source": [
    "The intended way to access active EDM data is by instantiating a `WaterCompany` object, which corresponds to the EDM sensor network maintained by a specific water comapny. When initialising the object, it is populated with all of the active (i.e., _transmitting_) EDM monitors maintained by Thames Water. However, we do not create a `WaterCompany` object directly. Instead, each water company defines a sub-class of a `WaterCompany` object. This is because each company transmits their data via different APIs and so the data is accessed in slightly different ways. However, this is all done 'behind the scenes', so they are all interacted with in the exact same way. The only difference is the name of the class. Lets have a look at the data in Thames Water's active EDM monitors... This requires us to specify access codes for the API which you can obtain [here](https://data.thameswater.co.uk/s/) "
   ]
  },
  {
   "cell_type": "code",
   "execution_count": null,
   "metadata": {},
   "outputs": [],
   "source": [
    "tw_clientID = \"REPLACE_WITH_YOUR_ID\"\n",
    "tw_clientSecret = \"REPLACE_WITH_YOUR_SECRET\"\n",
    "\n",
    "if tw_clientID == \"REPLACE_WITH_YOUR_ID\" or tw_clientSecret == \"REPLACE_WITH_YOUR_SECRET\":\n",
    "    raise ValueError(\"You need to set your Thames Water client ID and client secret in the script!\")\n",
    "\n",
    "tw = ThamesWater(tw_clientID, tw_clientSecret)"
   ]
  },
  {
   "cell_type": "markdown",
   "metadata": {},
   "source": [
    "We can see the names of these monitors by using the `active_monitor_names` attribute"
   ]
  },
  {
   "cell_type": "code",
   "execution_count": null,
   "metadata": {},
   "outputs": [],
   "source": [
    "print(\"-\" * 50)\n",
    "print(\"Number of active monitors: \", len(tw.active_monitor_names))\n",
    "print(\"Active monitor names: \")\n",
    "for name in tw.active_monitor_names:\n",
    "    print(\"\\t\", name)\n",
    "print(\"-\" * 50)"
   ]
  },
  {
   "cell_type": "markdown",
   "metadata": {},
   "source": [
    "Lets see the current status of a random monitor in the network. Lets extract the [42](https://en.wikipedia.org/wiki/42_(number)#The_Hitchhiker's_Guide_to_the_Galaxy)nd monitor in the network"
   ]
  },
  {
   "cell_type": "code",
   "execution_count": null,
   "metadata": {},
   "outputs": [],
   "source": [
    "print(\"Selecting an arbitrary monitor...\")\n",
    "name = tw.active_monitor_names[42]\n",
    "print(\"Monitor name: \", name)"
   ]
  },
  {
   "cell_type": "markdown",
   "metadata": {},
   "source": [
    "The monitors are stored in a `Dictionary` of `Monitor` objects, which can be accessed using the `monitors` attribute. We now extract the `Monitor` object corresponding to the name we have just extracted. We can then use the `print_status` method to print the current status of the monitor."
   ]
  },
  {
   "cell_type": "code",
   "execution_count": null,
   "metadata": {},
   "outputs": [],
   "source": [
    "monitor = tw.active_monitors[name]\n",
    "monitor.print_status()"
   ]
  },
  {
   "cell_type": "markdown",
   "metadata": {},
   "source": [
    "Each `Monitor` stores the `WaterCompany` object which contains the monitor. For example, the `Monitor` we have just extracted is maintained by the following `WaterCompany` object:"
   ]
  },
  {
   "cell_type": "code",
   "execution_count": null,
   "metadata": {},
   "outputs": [],
   "source": [
    "print(\"Monitor maintained by: \", monitor.water_company.name)"
   ]
  },
  {
   "cell_type": "markdown",
   "metadata": {},
   "source": [
    "We can also see when the information was last updated by querying the WaterCompany object's timestamp attribute"
   ]
  },
  {
   "cell_type": "code",
   "execution_count": null,
   "metadata": {},
   "outputs": [],
   "source": [
    "print(\"Monitor data last updated: \", monitor.water_company.timestamp)"
   ]
  },
  {
   "cell_type": "markdown",
   "metadata": {},
   "source": [
    "Lets say we think maybe there has been a change in the status of the monitor since the last update. We can use the `WaterCompany`'s `update()` method to update the status of the `Monitor`. Note that this updates all `Monitor`s maintained by the `WaterCompany` object, not just the one we are interested in."
   ]
  },
  {
   "cell_type": "code",
   "execution_count": null,
   "metadata": {},
   "outputs": [],
   "source": [
    "print(\"... pausing for 5 seconds ...\")\n",
    "time.sleep(5)\n",
    "print(\"Updating monitor data...\")\n",
    "monitor.water_company.update()\n",
    "print(\"Monitor last updated: \", monitor.water_company.timestamp)"
   ]
  },
  {
   "cell_type": "markdown",
   "metadata": {},
   "source": [
    "Note that the timestamp has been updated.\n",
    "\n",
    "The `current_event` attribute of the `Monitor` object stores an `Event` object that contains specific information. `Event` is a class that contains three sub-classes corresponding to the three different types of status that can be recorded: `Discharge`, `NoDischarge` and `Offline`. The `current_event` attribute will contain an object of one of these three classes, depending on the current status of the monitor.\n",
    "\n",
    "Lets see what the current status of the event recorded at the monitor is:"
   ]
  },
  {
   "cell_type": "code",
   "execution_count": null,
   "metadata": {},
   "outputs": [],
   "source": [
    "print(\"Extracting current event at monitor...\")\n",
    "event = monitor.current_event\n",
    "print(\"Event ongoing? \", event.ongoing)"
   ]
  },
  {
   "cell_type": "markdown",
   "metadata": {},
   "source": [
    "Because the event is ongoing it doesn't have an end time, but it does have a start time.\n",
    "As a result, the `duration` attribute of the `Event` object updates dynamically to show the duration\n",
    "of the event so far (in minutes). We can see this here."
   ]
  },
  {
   "cell_type": "code",
   "execution_count": null,
   "metadata": {},
   "outputs": [],
   "source": [
    "print(\"Event start:\", event.start_time)\n",
    "print(\"Event duration:\", event.duration, \"minutes\")\n",
    "print(\"... pausing for 5 seconds ...\")\n",
    "time.sleep(5)\n",
    "print(\"Event duration (5 seconds later):\", event.duration, \"minutes\")"
   ]
  },
  {
   "cell_type": "markdown",
   "metadata": {},
   "source": [
    "Lets query all the CSOs that are currently discharging using the `WaterCompany`'s `discharging_monitors` attribute. This returns a list of `Monitor` objects that are currently discharging. We loop through and print their summaries. Note how the colour of the summary changes depending on the status of the monitor."
   ]
  },
  {
   "cell_type": "code",
   "execution_count": null,
   "metadata": {},
   "outputs": [],
   "source": [
    "print(\"Extracting all discharging CSOs...\")\n",
    "discharging = tw.discharging_monitors\n",
    "print(\"Printing summary of all discharging CSOs...\")\n",
    "for monitor in discharging:\n",
    "    monitor.print_status()"
   ]
  }
 ],
 "metadata": {
  "kernelspec": {
   "display_name": "working",
   "language": "python",
   "name": "python3"
  },
  "language_info": {
   "codemirror_mode": {
    "name": "ipython",
    "version": 3
   },
   "file_extension": ".py",
   "mimetype": "text/x-python",
   "name": "python",
   "nbconvert_exporter": "python",
   "pygments_lexer": "ipython3",
   "version": "3.10.6"
  }
 },
 "nbformat": 4,
 "nbformat_minor": 2
}
