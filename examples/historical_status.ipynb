{
 "cells": [
  {
   "cell_type": "markdown",
   "metadata": {},
   "source": [
    "This notebook provides an example of how to use the `poopy` package to access historical CSO discharge monitoring data provided by water companies.\n",
    "\n",
    "First, we import the libraries we need."
   ]
  },
  {
   "cell_type": "code",
   "execution_count": null,
   "metadata": {},
   "outputs": [],
   "source": [
    "from poopy.companies import ThamesWater\n",
    "\n",
    "# To help demonstrate the package\n",
    "import datetime\n",
    "import os\n",
    "import matplotlib.pyplot as plt"
   ]
  },
  {
   "cell_type": "markdown",
   "metadata": {},
   "source": [
    "First we initiate an instance of a `WaterCompany` object. We opt to use the `ThamesWater` as an example. "
   ]
  },
  {
   "cell_type": "code",
   "execution_count": null,
   "metadata": {},
   "outputs": [],
   "source": [
    "tw_clientID = os.getenv(\"TW_CLIENT_ID\")\n",
    "tw_clientSecret = os.getenv(\"TW_CLIENT_SECRET\")\n",
    "\n",
    "if tw_clientID is None or tw_clientSecret is None:\n",
    "    raise ValueError(\n",
    "        \"Thames Water API keys are missing from the environment!\\n Please set them and try again.\"\n",
    "    )\n",
    "\n",
    "tw = ThamesWater(tw_clientID, tw_clientSecret)"
   ]
  },
  {
   "cell_type": "markdown",
   "metadata": {},
   "source": [
    "Initiating a `WaterCompany` object will automatically download the current status of all the monitors. What we want to do is explore historical information for past discharges. This can either be done at the level of the individual `Monitor` or at the level of the `WaterCompany`. Lets explore the former first using the \"Bourton-On-The-Water\" monitor."
   ]
  },
  {
   "cell_type": "code",
   "execution_count": null,
   "metadata": {},
   "outputs": [],
   "source": [
    "monitor = tw.active_monitors[\"Bourton-On-The-Water\"]\n",
    "monitor.get_history()"
   ]
  },
  {
   "cell_type": "markdown",
   "metadata": {},
   "source": [
    "Above, we ran the `get_history()` method that extracts the historical data for a given monitor. This information is stored in the `Monitor` object in the `history` attribute. This is a List of `Event` objects. For example, lets see what the fifth event in the history is. Recall that an `Event` object can either be a `Discharge`, `Offline` or `NoDischarge`. "
   ]
  },
  {
   "cell_type": "code",
   "execution_count": null,
   "metadata": {},
   "outputs": [],
   "source": [
    "fifth_event = monitor.history[4]\n",
    "fifth_event.print()"
   ]
  },
  {
   "cell_type": "markdown",
   "metadata": {},
   "source": [
    "To visualise the history once it has been calculated we can use the `plot_history()` method. This will plot the history of the monitor as a 'barcode', the colour of the bar corresponds to the status of the event through time. Brown is a discharge, grey is offline and white is no discharge. Note that the barchart automatically goes back as far as the first recorded discharge or offline event for that monitor. "
   ]
  },
  {
   "cell_type": "code",
   "execution_count": null,
   "metadata": {},
   "outputs": [],
   "source": [
    "monitor.plot_history()"
   ]
  },
  {
   "cell_type": "markdown",
   "metadata": {},
   "source": [
    "We can make it plot for a shorter period by passing a `since` parameter. For example, lets look at only the last 3 months."
   ]
  },
  {
   "cell_type": "code",
   "execution_count": null,
   "metadata": {},
   "outputs": [],
   "source": [
    "since_3_months = datetime.datetime.now() - datetime.timedelta(days=90) # 90 days = 3 months\n",
    "monitor.plot_history(since=since_3_months)"
   ]
  },
  {
   "cell_type": "markdown",
   "metadata": {},
   "source": [
    "We can print out some summary information about the total amount of discharge as follows:"
   ]
  },
  {
   "cell_type": "code",
   "execution_count": null,
   "metadata": {},
   "outputs": [],
   "source": [
    "print(f\"Total discharge: {monitor.total_discharge()} minutes\")\n",
    "print(f\"Total discharge last 12 months: {monitor.total_discharge_last_12_months()} minutes\")\n",
    "print(f\"Total discharge last 6 months: {monitor.total_discharge_last_6_months()} minutes\")\n",
    "print(f\"Total discharge since start of year: {monitor.total_discharge_since_start_of_year()} minutes\")\n",
    "print(f\"Total discharge last 3 months: {monitor.total_discharge(since=since_3_months)} minutes\")"
   ]
  },
  {
   "cell_type": "markdown",
   "metadata": {},
   "source": [
    "If we want to calculate the history for all monitors managed by a particular water company we can do this by calling the `set_all_histories()` method on the `WaterCompany` object. This sets the `history` attribute of all the monitors in the `WaterCompany` object."
   ]
  },
  {
   "cell_type": "code",
   "execution_count": null,
   "metadata": {},
   "outputs": [],
   "source": [
    "tw.set_all_histories()"
   ]
  },
  {
   "cell_type": "markdown",
   "metadata": {},
   "source": [
    "Then, the monitor's history object can be accessed as before. For example, lets get the history for the \"Marlborough\" monitor."
   ]
  },
  {
   "cell_type": "code",
   "execution_count": null,
   "metadata": {},
   "outputs": [],
   "source": [
    "monitor = tw.active_monitors[\"Marlborough\"]\n",
    "monitor.plot_history()"
   ]
  },
  {
   "cell_type": "markdown",
   "metadata": {},
   "source": [
    "Alternatively, we can get all of the discharge events in the form of a `pandas` dataframe using the `get_history_df()` method. This returns a dataframe that contains all the discharge events for all the monitors managed by the water company, sorted from newest to oldest start times. This dataframe can then be analysed using standard pandas methods. The columns of the dataframe are shown below:"
   ]
  },
  {
   "cell_type": "code",
   "execution_count": null,
   "metadata": {},
   "outputs": [],
   "source": [
    "df = tw.history_to_discharge_df()\n",
    "print(df.columns.to_list())"
   ]
  },
  {
   "cell_type": "markdown",
   "metadata": {},
   "source": [
    "This can then be saved to file using the standard Pandas methods. For example, to save it as a CSV file that can be analysed using other tools (e.g, Excel) we can do the following:"
   ]
  },
  {
   "cell_type": "code",
   "execution_count": null,
   "metadata": {},
   "outputs": [],
   "source": [
    "filename = tw.name + tw.history_timestamp.strftime(\"%y%m%d%H%M%S\") + \".csv\"\n",
    "print(f\"Saving history to {filename}\")\n",
    "df.to_csv(filename, header=True, index=False)"
   ]
  },
  {
   "cell_type": "markdown",
   "metadata": {},
   "source": [
    "Lets say we want to look at how CSO overflows have changed over time. Or perhaps how many monitors are online at any one time across a water companies patch. We can do this using the `get_monitor_timeseries()` method of a `WaterCompany`. This generates time series of the number of active CSOs, recently active CSOs and online monitors at 15 minute intervals (the approximate frequency of the data). Lets generate this data from the start of 2022."
   ]
  },
  {
   "cell_type": "code",
   "execution_count": null,
   "metadata": {},
   "outputs": [],
   "source": [
    "since = datetime.datetime(2022, 1, 1)\n",
    "monitor_series = tw.get_monitor_timeseries(since=since)"
   ]
  },
  {
   "cell_type": "markdown",
   "metadata": {},
   "source": [
    "Now lets plot the results."
   ]
  },
  {
   "cell_type": "code",
   "execution_count": null,
   "metadata": {},
   "outputs": [],
   "source": [
    "plt.figure(figsize=(10, 5))\n",
    "plt.plot(\n",
    "    monitor_series[\"datetime\"],\n",
    "    monitor_series[\"number_online\"],\n",
    "    c=\"grey\",\n",
    "    label=\"Online\",\n",
    "    linestyle=\"dashed\",\n",
    ")\n",
    "plt.plot(\n",
    "    monitor_series[\"datetime\"],\n",
    "    monitor_series[\"number_discharging\"],\n",
    "    c=\"red\",\n",
    "    label=\"Discharging\",\n",
    ")\n",
    "plt.ylabel(\"Number of monitors\")\n",
    "plt.xlabel(\"Date\")\n",
    "# Set the xlimits to be the min and max of the datetime column\n",
    "plt.xlim(monitor_series[\"datetime\"].min(), monitor_series[\"datetime\"].max())\n",
    "plt.ylim(0, 450)\n",
    "plt.title(\"Thames Water: All monitors history\")\n",
    "plt.legend()\n",
    "plt.show()"
   ]
  },
  {
   "cell_type": "markdown",
   "metadata": {},
   "source": [
    "We can see that the number of monitors where we have active data increased significantly at the start of 2023. Since then, the coverage has got gradually better but the number of active monitors has remained fairly constant. As ecpected there are more CSOs active during the winter months. To get a more averaged (less 'spiky') view of the data we can look at those which have been active in the last 48 hours (shown below) but the overall picture is the same."
   ]
  },
  {
   "cell_type": "code",
   "execution_count": null,
   "metadata": {},
   "outputs": [],
   "source": [
    "plt.figure(figsize=(10, 5))\n",
    "plt.plot(\n",
    "    monitor_series[\"datetime\"],\n",
    "    monitor_series[\"number_online\"],\n",
    "    c=\"grey\",\n",
    "    label=\"Online\",\n",
    "    linestyle=\"dashed\",\n",
    ")\n",
    "plt.plot(\n",
    "    monitor_series[\"datetime\"],\n",
    "    monitor_series[\"number_recently_discharging\"],\n",
    "    c=\"orange\",\n",
    "    label=\"Discharging in last 48 hrs\",\n",
    ")\n",
    "plt.ylabel(\"Number of monitors\")\n",
    "plt.xlabel(\"Date\")\n",
    "# Set the xlimits to be the min and max of the datetime column\n",
    "plt.xlim(monitor_series[\"datetime\"].min(), monitor_series[\"datetime\"].max())\n",
    "plt.ylim(0, 450)\n",
    "plt.title(\"Thames Water: All monitors history\")\n",
    "plt.legend()\n",
    "plt.show()"
   ]
  }
 ],
 "metadata": {
  "kernelspec": {
   "display_name": "working",
   "language": "python",
   "name": "python3"
  },
  "language_info": {
   "codemirror_mode": {
    "name": "ipython",
    "version": 3
   },
   "file_extension": ".py",
   "mimetype": "text/x-python",
   "name": "python",
   "nbconvert_exporter": "python",
   "pygments_lexer": "ipython3",
   "version": "3.10.6"
  }
 },
 "nbformat": 4,
 "nbformat_minor": 2
}
